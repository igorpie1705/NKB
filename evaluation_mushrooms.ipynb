{
 "cells": [
  {
   "metadata": {},
   "cell_type": "markdown",
   "source": "# Załadowanie bibliotek oraz danych",
   "id": "39ab667ac8089901"
  },
  {
   "metadata": {
    "ExecuteTime": {
     "end_time": "2025-01-20T00:30:47.850207Z",
     "start_time": "2025-01-20T00:30:47.543530Z"
    }
   },
   "cell_type": "code",
   "source": [
    "import numpy as np\n",
    "import pandas as pd\n",
    "import matplotlib.pyplot as plt\n",
    "import seaborn as sns\n",
    "from sklearn.model_selection import train_test_split\n",
    "df = pd.read_csv(\"./mushrooms.csv\")\n",
    "df.head()"
   ],
   "id": "9cb0437bd3d4bbce",
   "outputs": [
    {
     "data": {
      "text/plain": [
       "  class cap-shape cap-surface cap-color bruises odor gill-attachment  \\\n",
       "0     p         x           s         n       t    p               f   \n",
       "1     e         x           s         y       t    a               f   \n",
       "2     e         b           s         w       t    l               f   \n",
       "3     p         x           y         w       t    p               f   \n",
       "4     e         x           s         g       f    n               f   \n",
       "\n",
       "  gill-spacing gill-size gill-color  ... stalk-surface-below-ring  \\\n",
       "0            c         n          k  ...                        s   \n",
       "1            c         b          k  ...                        s   \n",
       "2            c         b          n  ...                        s   \n",
       "3            c         n          n  ...                        s   \n",
       "4            w         b          k  ...                        s   \n",
       "\n",
       "  stalk-color-above-ring stalk-color-below-ring veil-type veil-color  \\\n",
       "0                      w                      w         p          w   \n",
       "1                      w                      w         p          w   \n",
       "2                      w                      w         p          w   \n",
       "3                      w                      w         p          w   \n",
       "4                      w                      w         p          w   \n",
       "\n",
       "  ring-number ring-type spore-print-color population habitat  \n",
       "0           o         p                 k          s       u  \n",
       "1           o         p                 n          n       g  \n",
       "2           o         p                 n          n       m  \n",
       "3           o         p                 k          s       u  \n",
       "4           o         e                 n          a       g  \n",
       "\n",
       "[5 rows x 23 columns]"
      ],
      "text/html": [
       "<div>\n",
       "<style scoped>\n",
       "    .dataframe tbody tr th:only-of-type {\n",
       "        vertical-align: middle;\n",
       "    }\n",
       "\n",
       "    .dataframe tbody tr th {\n",
       "        vertical-align: top;\n",
       "    }\n",
       "\n",
       "    .dataframe thead th {\n",
       "        text-align: right;\n",
       "    }\n",
       "</style>\n",
       "<table border=\"1\" class=\"dataframe\">\n",
       "  <thead>\n",
       "    <tr style=\"text-align: right;\">\n",
       "      <th></th>\n",
       "      <th>class</th>\n",
       "      <th>cap-shape</th>\n",
       "      <th>cap-surface</th>\n",
       "      <th>cap-color</th>\n",
       "      <th>bruises</th>\n",
       "      <th>odor</th>\n",
       "      <th>gill-attachment</th>\n",
       "      <th>gill-spacing</th>\n",
       "      <th>gill-size</th>\n",
       "      <th>gill-color</th>\n",
       "      <th>...</th>\n",
       "      <th>stalk-surface-below-ring</th>\n",
       "      <th>stalk-color-above-ring</th>\n",
       "      <th>stalk-color-below-ring</th>\n",
       "      <th>veil-type</th>\n",
       "      <th>veil-color</th>\n",
       "      <th>ring-number</th>\n",
       "      <th>ring-type</th>\n",
       "      <th>spore-print-color</th>\n",
       "      <th>population</th>\n",
       "      <th>habitat</th>\n",
       "    </tr>\n",
       "  </thead>\n",
       "  <tbody>\n",
       "    <tr>\n",
       "      <th>0</th>\n",
       "      <td>p</td>\n",
       "      <td>x</td>\n",
       "      <td>s</td>\n",
       "      <td>n</td>\n",
       "      <td>t</td>\n",
       "      <td>p</td>\n",
       "      <td>f</td>\n",
       "      <td>c</td>\n",
       "      <td>n</td>\n",
       "      <td>k</td>\n",
       "      <td>...</td>\n",
       "      <td>s</td>\n",
       "      <td>w</td>\n",
       "      <td>w</td>\n",
       "      <td>p</td>\n",
       "      <td>w</td>\n",
       "      <td>o</td>\n",
       "      <td>p</td>\n",
       "      <td>k</td>\n",
       "      <td>s</td>\n",
       "      <td>u</td>\n",
       "    </tr>\n",
       "    <tr>\n",
       "      <th>1</th>\n",
       "      <td>e</td>\n",
       "      <td>x</td>\n",
       "      <td>s</td>\n",
       "      <td>y</td>\n",
       "      <td>t</td>\n",
       "      <td>a</td>\n",
       "      <td>f</td>\n",
       "      <td>c</td>\n",
       "      <td>b</td>\n",
       "      <td>k</td>\n",
       "      <td>...</td>\n",
       "      <td>s</td>\n",
       "      <td>w</td>\n",
       "      <td>w</td>\n",
       "      <td>p</td>\n",
       "      <td>w</td>\n",
       "      <td>o</td>\n",
       "      <td>p</td>\n",
       "      <td>n</td>\n",
       "      <td>n</td>\n",
       "      <td>g</td>\n",
       "    </tr>\n",
       "    <tr>\n",
       "      <th>2</th>\n",
       "      <td>e</td>\n",
       "      <td>b</td>\n",
       "      <td>s</td>\n",
       "      <td>w</td>\n",
       "      <td>t</td>\n",
       "      <td>l</td>\n",
       "      <td>f</td>\n",
       "      <td>c</td>\n",
       "      <td>b</td>\n",
       "      <td>n</td>\n",
       "      <td>...</td>\n",
       "      <td>s</td>\n",
       "      <td>w</td>\n",
       "      <td>w</td>\n",
       "      <td>p</td>\n",
       "      <td>w</td>\n",
       "      <td>o</td>\n",
       "      <td>p</td>\n",
       "      <td>n</td>\n",
       "      <td>n</td>\n",
       "      <td>m</td>\n",
       "    </tr>\n",
       "    <tr>\n",
       "      <th>3</th>\n",
       "      <td>p</td>\n",
       "      <td>x</td>\n",
       "      <td>y</td>\n",
       "      <td>w</td>\n",
       "      <td>t</td>\n",
       "      <td>p</td>\n",
       "      <td>f</td>\n",
       "      <td>c</td>\n",
       "      <td>n</td>\n",
       "      <td>n</td>\n",
       "      <td>...</td>\n",
       "      <td>s</td>\n",
       "      <td>w</td>\n",
       "      <td>w</td>\n",
       "      <td>p</td>\n",
       "      <td>w</td>\n",
       "      <td>o</td>\n",
       "      <td>p</td>\n",
       "      <td>k</td>\n",
       "      <td>s</td>\n",
       "      <td>u</td>\n",
       "    </tr>\n",
       "    <tr>\n",
       "      <th>4</th>\n",
       "      <td>e</td>\n",
       "      <td>x</td>\n",
       "      <td>s</td>\n",
       "      <td>g</td>\n",
       "      <td>f</td>\n",
       "      <td>n</td>\n",
       "      <td>f</td>\n",
       "      <td>w</td>\n",
       "      <td>b</td>\n",
       "      <td>k</td>\n",
       "      <td>...</td>\n",
       "      <td>s</td>\n",
       "      <td>w</td>\n",
       "      <td>w</td>\n",
       "      <td>p</td>\n",
       "      <td>w</td>\n",
       "      <td>o</td>\n",
       "      <td>e</td>\n",
       "      <td>n</td>\n",
       "      <td>a</td>\n",
       "      <td>g</td>\n",
       "    </tr>\n",
       "  </tbody>\n",
       "</table>\n",
       "<p>5 rows × 23 columns</p>\n",
       "</div>"
      ]
     },
     "execution_count": 1,
     "metadata": {},
     "output_type": "execute_result"
    }
   ],
   "execution_count": 1
  },
  {
   "metadata": {},
   "cell_type": "markdown",
   "source": "# Podział danych na zbiór treningowy i testowy\n",
   "id": "4e61bfcf6a329e23"
  },
  {
   "metadata": {},
   "cell_type": "markdown",
   "source": [
    "- X to zbiór cech, które będą używane do klasyfikacji\n",
    "- y to zbiór etykiet, które chcemy przewidzieć\n",
    "\n",
    "Dane podzielę w proporcji 70% na zbiór treningowy i 30% na zbiór testowy, za pomocą funkcji `train_test_split` z biblioteki `sklearn.model_selection`. Ustawiam `random_state` na 0, aby wyniki były deterministyczne."
   ],
   "id": "859cd222454e540f"
  },
  {
   "metadata": {
    "ExecuteTime": {
     "end_time": "2025-01-20T00:35:22.693412Z",
     "start_time": "2025-01-20T00:35:22.679401Z"
    }
   },
   "cell_type": "code",
   "source": [
    "X = df.drop(['class'], axis=1)\n",
    "y = df['class']\n",
    "X_train, X_test, y_train, y_test = train_test_split(X, y, test_size = 0.3, random_state =0)\n",
    "print(X_train.shape[0], X_test.shape[0])"
   ],
   "id": "7287a622c45a75b8",
   "outputs": [
    {
     "name": "stdout",
     "output_type": "stream",
     "text": [
      "5686 2438\n"
     ]
    }
   ],
   "execution_count": 2
  },
  {
   "metadata": {},
   "cell_type": "markdown",
   "source": "Liczba próbek w zbiorze treningowym i testowym wynosi odpowiednio 5686 i 2438, więc wszystko się zgadza.",
   "id": "20154f07a5e14140"
  },
  {
   "metadata": {},
   "cell_type": "markdown",
   "source": [
    "\n",
    "# Nakarmienie modelu danymi testowymi\n",
    "Importuję przygotowaną wcześniej klasę `MultinomialNaiveBayesClassifier` i tworzę instancję klasyfikatora, podając mu dane treningowe i testowe. Następnie wywołuję metodę `fit`, która trenuje model."
   ],
   "id": "4c0940d8f92cce58"
  },
  {
   "metadata": {
    "ExecuteTime": {
     "end_time": "2025-01-20T00:45:26.022222Z",
     "start_time": "2025-01-20T00:45:25.186794Z"
    }
   },
   "cell_type": "code",
   "source": [
    "from MultinomialNaiveBayesClassifier import MultinomialNaiveBayesClassifier\n",
    "model = MultinomialNaiveBayesClassifier(X_train, X_test, y_train, y_test)\n",
    "model.fit()"
   ],
   "id": "b5f445c592dabbc5",
   "outputs": [],
   "execution_count": 4
  },
  {
   "metadata": {},
   "cell_type": "markdown",
   "source": [
    "# Wykonywanie przewidywań na wyuczonym modelu\n",
    "Wywołam metodę `predict` na modelu, aby dokonać predykcji na zbiorze testowym. Następnie wyświetlam pierwsze 5 predykcji, aby zobaczyć jak wyglądają."
   ],
   "id": "6b7df1aa74ebdd2c"
  },
  {
   "metadata": {
    "ExecuteTime": {
     "end_time": "2025-01-20T00:48:44.556872Z",
     "start_time": "2025-01-20T00:48:44.511109Z"
    }
   },
   "cell_type": "code",
   "source": "predictions = model.predict(X_test)",
   "id": "d9bff3c5b1bc0432",
   "outputs": [
    {
     "data": {
      "text/plain": [
       "['p', 'e', 'e', 'e', 'e']"
      ]
     },
     "execution_count": 6,
     "metadata": {},
     "output_type": "execute_result"
    }
   ],
   "execution_count": 6
  },
  {
   "metadata": {},
   "cell_type": "markdown",
   "source": "# Sprawdzenie dokładności modelu",
   "id": "4f934504790db696"
  },
  {
   "metadata": {
    "ExecuteTime": {
     "end_time": "2025-01-20T00:58:10.730202Z",
     "start_time": "2025-01-20T00:58:10.602782Z"
    }
   },
   "cell_type": "code",
   "source": [
    "train_score = model.score(X_train, y_train)\n",
    "test_score = model.score(X_test, y_test)\n",
    "print(f\"Dokładność na zbiorze treningowym: {train_score}\")\n",
    "print(f\"Dokładność na zbiorze testowym: {test_score}\")\n",
    "print(abs(train_score - test_score))"
   ],
   "id": "8194aa5f46bb49dc",
   "outputs": [
    {
     "name": "stdout",
     "output_type": "stream",
     "text": [
      "Dokładność na zbiorze treningowym: 0.9549771368272951\n",
      "Dokładność na zbiorze testowym: 0.9634946677604594\n",
      "0.008517530933164319\n"
     ]
    }
   ],
   "execution_count": 7
  },
  {
   "metadata": {},
   "cell_type": "markdown",
   "source": "Jak widać, dokładność na zbiorze treningowym wynosi 0.9550, a na zbiorze testowym 0.9635. Różnica między nimi wynosi 0.0085, co oznacza, że model jest dobrze dopasowany do danych treningowych i nie ma problemu z overfittingiem.",
   "id": "c93add72c5348a18"
  },
  {
   "metadata": {
    "ExecuteTime": {
     "end_time": "2025-01-20T01:05:51.672354Z",
     "start_time": "2025-01-20T01:05:51.602821Z"
    }
   },
   "cell_type": "code",
   "source": [
    "from sklearn.metrics import classification_report\n",
    "\n",
    "predictions = model.predict(X_test)\n",
    "\n",
    "report = classification_report(y_test, predictions, target_names=['Jadalny', 'Trujący'])\n",
    "\n",
    "print(report)"
   ],
   "id": "f0b2cae2bb325a19",
   "outputs": [
    {
     "name": "stdout",
     "output_type": "stream",
     "text": [
      "              precision    recall  f1-score   support\n",
      "\n",
      "     Jadalny       0.94      1.00      0.97      1272\n",
      "     Trujący       1.00      0.93      0.96      1166\n",
      "\n",
      "    accuracy                           0.96      2438\n",
      "   macro avg       0.97      0.96      0.96      2438\n",
      "weighted avg       0.97      0.96      0.96      2438\n",
      "\n"
     ]
    }
   ],
   "execution_count": 9
  },
  {
   "metadata": {},
   "cell_type": "markdown",
   "source": [
    "Wykorzystując funkcję `classification_report` z biblioteki `sklearn.metrics`, uzyskałem raport klasyfikacji, który zawiera miary takie jak:\n",
    "- precyzja - stosunek poprawnie przewidzianych pozytywnych obserwacji do wszystkich pozytywnych obserwacji\n",
    "- czułość - stosunek poprawnie przewidzianych pozytywnych obserwacji do wszystkich obserwacji w rzeczywistej klasie\n",
    "- f1-score - średnia harmoniczna precyzji i czułości\n",
    "\n",
    "Te najbardziej nas interesujące miary, czyli precyzja i czułość, wynoszą odpowiednio 0.94 i 1.00 dla klasy jadalny oraz 1.00 i 0.93 dla klasy trujący. Można zatem stwierdzić, że model działa bardzo dobrze i jest w stanie rozróżnić grzyby jadalne od trujących z bardzo wysoką dokładnością."
   ],
   "id": "c2443c8f9e189044"
  },
  {
   "metadata": {},
   "cell_type": "markdown",
   "source": [
    "# Macierz konfuzji\n",
    "Dobrym sposobem na zobrazowanie wyników klasyfikacji jest wykorzystanie macierzy konfuzji. Jest to tabela, która pokazuje liczbę poprawnych i błędnych klasyfikacji dla każdej klasy. Wartości na przekątnej macierzy oznaczają poprawnie sklasyfikowane próbki, a wartości poza przekątną oznaczają błędnie sklasyfikowane próbki.\n",
    "\n",
    "W implementacji poniżej wykorzystuję funkcję `confusion_matrix` z biblioteki `sklearn.metrics`, aby uzyskać macierz konfuzji. Następnie tworzę DataFrame z wynikami, aby móc wyświetlić je w formie tabeli.\n"
   ],
   "id": "64c668efa5483583"
  },
  {
   "metadata": {
    "ExecuteTime": {
     "end_time": "2025-01-20T01:14:35.543237Z",
     "start_time": "2025-01-20T01:14:35.430655Z"
    }
   },
   "cell_type": "code",
   "source": [
    "from sklearn.metrics import confusion_matrix\n",
    "\n",
    "cm = confusion_matrix(y_test, predictions)\n",
    "\n",
    "cm_df = pd.DataFrame(cm, index=['Jadalny', 'Trujący'], columns=['Jadalny', 'Trujący'])\n",
    "\n",
    "plt.figure(figsize=(8, 6))\n",
    "sns.heatmap(cm_df, annot=True, fmt='d', cmap='Blues')\n",
    "plt.title('Macierz konfuzji')\n",
    "plt.xlabel('Przewidywana klasa')\n",
    "plt.ylabel('Rzeczywista klasa')\n",
    "plt.show()"
   ],
   "id": "8f077639f786cb00",
   "outputs": [
    {
     "data": {
      "text/plain": [
       "<Figure size 800x600 with 2 Axes>"
      ],
      "image/png": "[encoded data removed]"
     },
     "metadata": {},
     "output_type": "display_data"
    }
   ],
   "execution_count": 12
  },
  {
   "metadata": {},
   "cell_type": "markdown",
   "source": "Jak widać na powyższym wykresie, model próbki z klasy jadalny błędnie sklasyfikował 2 razy, a z klasy trujący - 87 próbek jako jadalne.",
   "id": "252f5561876365b8"
  },
  {
   "metadata": {},
   "cell_type": "markdown",
   "source": [
    "# Analiza prawdopodobieństw klasyfikacji\n",
    "W metodzie `predict` wykorzystuję metodę `predict_proba`, która zwraca prawdopodobieństwo przynależności do każdej z klas. W celu zobrazowania tych wyników, tworzę DataFrame z wynikami i wyświetlam pierwsze 10 wierszy.\n"
   ],
   "id": "770ba5328edf85c6"
  },
  {
   "metadata": {
    "ExecuteTime": {
     "end_time": "2025-01-20T01:27:16.016403Z",
     "start_time": "2025-01-20T01:27:15.967613Z"
    }
   },
   "cell_type": "code",
   "source": [
    "y_pred_prob = model.predict_proba(X_test)[0:10]\n",
    "\n",
    "class_labels = sorted(model.classes)\n",
    "\n",
    "y_pred_prob_df = pd.DataFrame(data=y_pred_prob, columns=class_labels)\n",
    "y_pred_prob_df"
   ],
   "id": "ed860470b54292c0",
   "outputs": [
    {
     "data": {
      "text/plain": [
       "              e             p\n",
       "0  3.967863e-01  6.032137e-01\n",
       "1  1.000000e+00  1.762786e-10\n",
       "2  1.000000e+00  1.185701e-10\n",
       "3  1.000000e+00  1.097100e-08\n",
       "4  9.999422e-01  5.777289e-05\n",
       "5  9.999999e-01  1.174923e-07\n",
       "6  2.884398e-01  7.115602e-01\n",
       "7  2.923065e-09  1.000000e+00\n",
       "8  1.000000e+00  6.398347e-10\n",
       "9  7.520950e-12  1.000000e+00"
      ],
      "text/html": [
       "<div>\n",
       "<style scoped>\n",
       "    .dataframe tbody tr th:only-of-type {\n",
       "        vertical-align: middle;\n",
       "    }\n",
       "\n",
       "    .dataframe tbody tr th {\n",
       "        vertical-align: top;\n",
       "    }\n",
       "\n",
       "    .dataframe thead th {\n",
       "        text-align: right;\n",
       "    }\n",
       "</style>\n",
       "<table border=\"1\" class=\"dataframe\">\n",
       "  <thead>\n",
       "    <tr style=\"text-align: right;\">\n",
       "      <th></th>\n",
       "      <th>e</th>\n",
       "      <th>p</th>\n",
       "    </tr>\n",
       "  </thead>\n",
       "  <tbody>\n",
       "    <tr>\n",
       "      <th>0</th>\n",
       "      <td>3.967863e-01</td>\n",
       "      <td>6.032137e-01</td>\n",
       "    </tr>\n",
       "    <tr>\n",
       "      <th>1</th>\n",
       "      <td>1.000000e+00</td>\n",
       "      <td>1.762786e-10</td>\n",
       "    </tr>\n",
       "    <tr>\n",
       "      <th>2</th>\n",
       "      <td>1.000000e+00</td>\n",
       "      <td>1.185701e-10</td>\n",
       "    </tr>\n",
       "    <tr>\n",
       "      <th>3</th>\n",
       "      <td>1.000000e+00</td>\n",
       "      <td>1.097100e-08</td>\n",
       "    </tr>\n",
       "    <tr>\n",
       "      <th>4</th>\n",
       "      <td>9.999422e-01</td>\n",
       "      <td>5.777289e-05</td>\n",
       "    </tr>\n",
       "    <tr>\n",
       "      <th>5</th>\n",
       "      <td>9.999999e-01</td>\n",
       "      <td>1.174923e-07</td>\n",
       "    </tr>\n",
       "    <tr>\n",
       "      <th>6</th>\n",
       "      <td>2.884398e-01</td>\n",
       "      <td>7.115602e-01</td>\n",
       "    </tr>\n",
       "    <tr>\n",
       "      <th>7</th>\n",
       "      <td>2.923065e-09</td>\n",
       "      <td>1.000000e+00</td>\n",
       "    </tr>\n",
       "    <tr>\n",
       "      <th>8</th>\n",
       "      <td>1.000000e+00</td>\n",
       "      <td>6.398347e-10</td>\n",
       "    </tr>\n",
       "    <tr>\n",
       "      <th>9</th>\n",
       "      <td>7.520950e-12</td>\n",
       "      <td>1.000000e+00</td>\n",
       "    </tr>\n",
       "  </tbody>\n",
       "</table>\n",
       "</div>"
      ]
     },
     "execution_count": 30,
     "metadata": {},
     "output_type": "execute_result"
    }
   ],
   "execution_count": 30
  },
  {
   "metadata": {},
   "cell_type": "markdown",
   "source": "Dzięki tej tabeli możemy zobaczyć, ilu próbek model jest pewien, a do ilu tej pewności nie miał: na przykład dla próbki z indeksem 0, prawdopodobieństwa są całkiem do siebie zbliżone.",
   "id": "f247472091670aa5"
  },
  {
   "metadata": {},
   "cell_type": "markdown",
   "source": [
    "# Podsumowanie\n",
    "Model osiągnął bardzo wysoką dokładność na zbiorze testowym, co oznacza, że jest w stanie rozróżnić grzyby jadalne od trujących z bardzo wysoką skutecznością. Warto zauważyć, że model nie ma problemu z overfittingiem, ponieważ dokładność na zbiorze treningowym i testowym jest bardzo zbliżona.\n",
    "\n",
    "Naiwny Klasyfikator Bayesowski okazał się bardzo prostym i skutecznym sposobem na klasyfikowanie danych ze zmiennymi kategorycznymi.\n"
   ],
   "id": "4376aee5491b3773"
  }
 ],
 "metadata": {
  "kernelspec": {
   "display_name": "Python 3",
   "language": "python",
   "name": "python3"
  },
  "language_info": {
   "codemirror_mode": {
    "name": "ipython",
    "version": 2
   },
   "file_extension": ".py",
   "mimetype": "text/x-python",
   "name": "python",
   "nbconvert_exporter": "python",
   "pygments_lexer": "ipython2",
   "version": "2.7.6"
  }
 },
 "nbformat": 4,
 "nbformat_minor": 5
}
