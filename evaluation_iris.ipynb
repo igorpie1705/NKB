{
 "cells": [
  {
   "cell_type": "markdown",
   "id": "aab2512a",
   "metadata": {},
   "source": [
    "# Załadowanie bibliotek, oraz danych\n",
    "\n",
    "Wykorzystujemy tutaj biblioteki: pandas, matplotlib, seaborn, sklearn, oraz zbioru danych Iris.\n",
    "\n",
    "Tworzymy następnie dataframe, któremu przypisujemy kolumny, oraz pod koniec sprawdzamy czy dane są wyświetlane prawidłowo wyciągając 5 pierwszych próbek z dataframe'u.\n"
   ]
  },
  {
   "cell_type": "code",
   "execution_count": 25,
   "id": "9c954d3f",
   "metadata": {},
   "outputs": [
    {
     "data": {
      "text/html": [
       "<div>\n",
       "<style scoped>\n",
       "    .dataframe tbody tr th:only-of-type {\n",
       "        vertical-align: middle;\n",
       "    }\n",
       "\n",
       "    .dataframe tbody tr th {\n",
       "        vertical-align: top;\n",
       "    }\n",
       "\n",
       "    .dataframe thead th {\n",
       "        text-align: right;\n",
       "    }\n",
       "</style>\n",
       "<table border=\"1\" class=\"dataframe\">\n",
       "  <thead>\n",
       "    <tr style=\"text-align: right;\">\n",
       "      <th></th>\n",
       "      <th>sepal length (cm)</th>\n",
       "      <th>sepal width (cm)</th>\n",
       "      <th>petal length (cm)</th>\n",
       "      <th>petal width (cm)</th>\n",
       "    </tr>\n",
       "  </thead>\n",
       "  <tbody>\n",
       "    <tr>\n",
       "      <th>0</th>\n",
       "      <td>5.1</td>\n",
       "      <td>3.5</td>\n",
       "      <td>1.4</td>\n",
       "      <td>0.2</td>\n",
       "    </tr>\n",
       "    <tr>\n",
       "      <th>1</th>\n",
       "      <td>4.9</td>\n",
       "      <td>3.0</td>\n",
       "      <td>1.4</td>\n",
       "      <td>0.2</td>\n",
       "    </tr>\n",
       "    <tr>\n",
       "      <th>2</th>\n",
       "      <td>4.7</td>\n",
       "      <td>3.2</td>\n",
       "      <td>1.3</td>\n",
       "      <td>0.2</td>\n",
       "    </tr>\n",
       "    <tr>\n",
       "      <th>3</th>\n",
       "      <td>4.6</td>\n",
       "      <td>3.1</td>\n",
       "      <td>1.5</td>\n",
       "      <td>0.2</td>\n",
       "    </tr>\n",
       "    <tr>\n",
       "      <th>4</th>\n",
       "      <td>5.0</td>\n",
       "      <td>3.6</td>\n",
       "      <td>1.4</td>\n",
       "      <td>0.2</td>\n",
       "    </tr>\n",
       "  </tbody>\n",
       "</table>\n",
       "</div>"
      ],
      "text/plain": [
       "   sepal length (cm)  sepal width (cm)  petal length (cm)  petal width (cm)\n",
       "0                5.1               3.5                1.4               0.2\n",
       "1                4.9               3.0                1.4               0.2\n",
       "2                4.7               3.2                1.3               0.2\n",
       "3                4.6               3.1                1.5               0.2\n",
       "4                5.0               3.6                1.4               0.2"
      ]
     },
     "execution_count": 25,
     "metadata": {},
     "output_type": "execute_result"
    }
   ],
   "source": [
    "import pandas as pd\n",
    "import matplotlib.pyplot as plt\n",
    "import seaborn as sns\n",
    "from sklearn.datasets import load_iris\n",
    "%matplotlib inline\n",
    "\n",
    "iris = load_iris()\n",
    "\n",
    "df = pd.DataFrame(data=iris.data, columns=iris.feature_names)\n",
    "df.head()"
   ]
  },
  {
   "cell_type": "markdown",
   "id": "b9e56e5f",
   "metadata": {},
   "source": [
    "# Dodanie kolumny z rodzajem kwiatu\n",
    "\n",
    "Następnie tworzymy swoje własne nazwy kolumn, aby dało się do nich odwoływać w kodzie. Dodajemy dodatkową kolumnę o nazwie variety, która będzie posiadała rodzaj irysa w postaci liczby 0 - setosa, 1 - versicolor, 2 - virginica.\n"
   ]
  },
  {
   "cell_type": "code",
   "execution_count": 26,
   "id": "4dc5079b",
   "metadata": {},
   "outputs": [
    {
     "data": {
      "text/html": [
       "<div>\n",
       "<style scoped>\n",
       "    .dataframe tbody tr th:only-of-type {\n",
       "        vertical-align: middle;\n",
       "    }\n",
       "\n",
       "    .dataframe tbody tr th {\n",
       "        vertical-align: top;\n",
       "    }\n",
       "\n",
       "    .dataframe thead th {\n",
       "        text-align: right;\n",
       "    }\n",
       "</style>\n",
       "<table border=\"1\" class=\"dataframe\">\n",
       "  <thead>\n",
       "    <tr style=\"text-align: right;\">\n",
       "      <th></th>\n",
       "      <th>sepal_length</th>\n",
       "      <th>sepal_width</th>\n",
       "      <th>petal_length</th>\n",
       "      <th>petal_width</th>\n",
       "      <th>variety</th>\n",
       "    </tr>\n",
       "  </thead>\n",
       "  <tbody>\n",
       "    <tr>\n",
       "      <th>0</th>\n",
       "      <td>5.1</td>\n",
       "      <td>3.5</td>\n",
       "      <td>1.4</td>\n",
       "      <td>0.2</td>\n",
       "      <td>0</td>\n",
       "    </tr>\n",
       "    <tr>\n",
       "      <th>1</th>\n",
       "      <td>4.9</td>\n",
       "      <td>3.0</td>\n",
       "      <td>1.4</td>\n",
       "      <td>0.2</td>\n",
       "      <td>0</td>\n",
       "    </tr>\n",
       "    <tr>\n",
       "      <th>2</th>\n",
       "      <td>4.7</td>\n",
       "      <td>3.2</td>\n",
       "      <td>1.3</td>\n",
       "      <td>0.2</td>\n",
       "      <td>0</td>\n",
       "    </tr>\n",
       "    <tr>\n",
       "      <th>3</th>\n",
       "      <td>4.6</td>\n",
       "      <td>3.1</td>\n",
       "      <td>1.5</td>\n",
       "      <td>0.2</td>\n",
       "      <td>0</td>\n",
       "    </tr>\n",
       "    <tr>\n",
       "      <th>4</th>\n",
       "      <td>5.0</td>\n",
       "      <td>3.6</td>\n",
       "      <td>1.4</td>\n",
       "      <td>0.2</td>\n",
       "      <td>0</td>\n",
       "    </tr>\n",
       "  </tbody>\n",
       "</table>\n",
       "</div>"
      ],
      "text/plain": [
       "   sepal_length  sepal_width  petal_length  petal_width  variety\n",
       "0           5.1          3.5           1.4          0.2        0\n",
       "1           4.9          3.0           1.4          0.2        0\n",
       "2           4.7          3.2           1.3          0.2        0\n",
       "3           4.6          3.1           1.5          0.2        0\n",
       "4           5.0          3.6           1.4          0.2        0"
      ]
     },
     "execution_count": 26,
     "metadata": {},
     "output_type": "execute_result"
    }
   ],
   "source": [
    "df['target'] = iris.target\n",
    "\n",
    "df.columns = ['sepal_length', 'sepal_width', 'petal_length', 'petal_width', 'variety']\n",
    "df.head()"
   ]
  },
  {
   "cell_type": "markdown",
   "id": "6ef5122b",
   "metadata": {},
   "source": [
    "# Podzielenie danych na X i y\n",
    "\n",
    "Kolejnym krokiem jest rozdzielenie danych na argumenty, oraz wartości. X to jest nasz cały dataframe ale bez ostatniej kolumny, dlatego właśnie używamy df.drop do usunięcia ostatniej kolumny, którą następnie przypisujemy do zbioru wartości y.\n"
   ]
  },
  {
   "cell_type": "code",
   "execution_count": 27,
   "id": "26a137b1",
   "metadata": {},
   "outputs": [],
   "source": [
    "X = df.drop(['variety'], axis=1)\n",
    "y = df['variety']"
   ]
  },
  {
   "cell_type": "markdown",
   "id": "d8489fa5",
   "metadata": {},
   "source": [
    "# Podzielenie danych na dane treningowe, oraz na dane testowe\n",
    "\n",
    "Kolejnym krokiem jest podzielenie naszych danych na dane treningowe, oraz na dane testowe. Wykorzystujemy do tego funkcję train_test_split z biblioteki sklearn, którą wykorzystujemy podając trzy argumenty. Jest to X, y, oraz test_size który jest liczbą z zakresu od 0.0 - 1.0 i mówi o tym w jakiej proporcji chcemy podzielić dane. W naszym przypadku dzielimy dane tak, żeby 30% z nich było danymi na których nasz model będzie testowany. Dostajemy w ten sposób cztery tablice danych X_train, X_test, y_train i y_test, które wykorzystamy później. Wybieramy też opcję random_state=42 dla powtarzalności wyników.\n"
   ]
  },
  {
   "cell_type": "code",
   "execution_count": 28,
   "id": "d51a85f5",
   "metadata": {},
   "outputs": [],
   "source": [
    "from sklearn.model_selection import train_test_split\n",
    "\n",
    "X_train, X_test, y_train, y_test = train_test_split(X, y, test_size = 0.3, random_state=42)"
   ]
  },
  {
   "cell_type": "markdown",
   "id": "84838219",
   "metadata": {},
   "source": [
    "# Przeskalowanie danych\n",
    "\n",
    "Teraz, należy wykorzystać scaler (w naszym przypadku StandardScaler z biblioteki sklearn), który ma na celu przeskalowania naszych danych żeby zminimalizować ilość mocno odbiegających od siebie danych żeby je \"wygładzić\". Wykonanie tej operacji sprawi, że nasz model będzie szybszy oraz mniej podatny na bardzo zróżnicowane wyniki.\n"
   ]
  },
  {
   "cell_type": "code",
   "execution_count": 29,
   "id": "803af660",
   "metadata": {},
   "outputs": [],
   "source": [
    "from sklearn.preprocessing import StandardScaler\n",
    "\n",
    "scaler = StandardScaler()\n",
    "\n",
    "X_train = scaler.fit_transform(X_train)\n",
    "\n",
    "X_test = scaler.transform(X_test)"
   ]
  },
  {
   "cell_type": "markdown",
   "id": "716796b0",
   "metadata": {},
   "source": [
    "# Nakarmienie modelu danymi treningowymi\n",
    "\n",
    "Gdy dane zostały już prawidłowo przygotowane, można wykorzystać algorytm Gaussowego Naiwnego Klasyfikatora Bayesa do nauczenia naszego modelu na podstawie tych danych. Robimy to najpierw importując odpowiedni algorytm, a potem tworząc obiekt klasyfikatora gnb, na którym wykorzystamy metodę fit. Metoda ta przyjmuje dwa argumenty, do której aplikujemy nasze dane X_train, oraz y_train na których nasz model się będzie uczył i następnie obiekt gnb będzie posiadał w swoich atrybutach informacje dzięki którym będzie mógł później wykonywać przewidywania.\n"
   ]
  },
  {
   "cell_type": "code",
   "execution_count": 30,
   "id": "821b499f",
   "metadata": {},
   "outputs": [],
   "source": [
    "from GaussianNaiveBayesClassifier import GaussianNaiveBayesClassifier\n",
    "\n",
    "gnb = GaussianNaiveBayesClassifier()\n",
    "\n",
    "gnb.fit(X_train, y_train)"
   ]
  },
  {
   "cell_type": "markdown",
   "id": "91b5ba86",
   "metadata": {},
   "source": [
    "# Wykonanie przewidywań na wyuczonym modelu\n",
    "\n",
    "W tym kroku wykonujemy na obiekcie klasyfikatora metodę predict z argumentem X_test, i przypisujemy rezultat do zmiennej y_pred. Można to sobie wyobrazić tak, że X_test jest dla naszego obiektu testem sprawdzającym wiedzę, a y_pred to są jego odpowiedzi na ten test. W tym miejscu algorytm na podstawie poprzedniego wywołania metody fit ma podstawy do \"rozwiązania\" tego testu.\n"
   ]
  },
  {
   "cell_type": "code",
   "execution_count": 31,
   "id": "774beb7d",
   "metadata": {},
   "outputs": [],
   "source": [
    "y_pred = gnb.predict(X_test)"
   ]
  },
  {
   "cell_type": "markdown",
   "id": "83aabe1c",
   "metadata": {},
   "source": [
    "# Sprawdzenie dokładności, oraz testowanie czy istnieje overfitting lub underfitting\n",
    "\n",
    "Gdy już wykonaliśmy wszystkie operacje przewidujące, należy sprawdzić dokładność modelu i wykrycia czy istnieje tzw. overfitting lub underfitting czyli przeuczenie, bądź niedouczenie. Żeby to zrobić, wykonujemy na obiekcie gnb metodę score przyjmującą dwa argumenty X i y, osobno dla danych treningowych, oraz dla danych testowych i sprawdzamy czy wyniki są do siebie zbliżone. Jeżeli byłyby bardzo daleko od siebie to mogłoby to sugerować overfitting lub underfitting, zależnie od tego które były większe, a które mniejsze. Na podstawie naszego modelu widać że dane są do siebie bardzo zbliżone, z czego możemy wynieść wniosek, że nasz model działa prawidłowo.\n"
   ]
  },
  {
   "cell_type": "code",
   "execution_count": 32,
   "id": "5a3f32f9",
   "metadata": {},
   "outputs": [
    {
     "name": "stdout",
     "output_type": "stream",
     "text": [
      "Wynik danych treningowych: 0.9429\n",
      "Wynik danych testowych: 0.9778\n"
     ]
    }
   ],
   "source": [
    "print('Wynik danych treningowych: {:.4f}'.format(gnb.score(X_train, y_train)))\n",
    "\n",
    "print('Wynik danych testowych: {:.4f}'.format(gnb.score(X_test, y_test)))"
   ]
  },
  {
   "cell_type": "markdown",
   "id": "56248fa7",
   "metadata": {},
   "source": [
    "### Obliczenie precyzji modelu\n",
    "\n",
    "Aby sprawdzić, jak dobrze model klasyfikuje próbki, obliczamy precyzję dla każdej klasy. W tym celu używamy `precision_score` z `sklearn`. Precyzja to stosunek liczby True Positives (TP) do sumy TP i False Positives (FP):\n",
    "\n",
    "#### Wynik:\n",
    "\n",
    "`Precyzja dla każdej klasy: [1.         1.         0.92857143]`\n",
    "\n",
    "- Klasa 0: Precyzja **1.0** – brak błędnych przypisań.\n",
    "- Klasa 1: Precyzja **1.0** – brak błędnych przypisań.\n",
    "- Klasa 2: Precyzja **0.92** – nieco więcej błędnych przypisań.\n",
    "\n",
    "Wysoka precyzja wskazuje, że model rzadko błędnie przypisuje próbki do danej klasy.\n"
   ]
  },
  {
   "cell_type": "code",
   "execution_count": 33,
   "id": "c0fce01a",
   "metadata": {},
   "outputs": [
    {
     "name": "stdout",
     "output_type": "stream",
     "text": [
      "Precyzja dla każdej klasy: [1.         1.         0.92857143]\n"
     ]
    }
   ],
   "source": [
    "from sklearn.metrics import precision_score\n",
    "\n",
    "precision = precision_score(y_test, y_pred, average=None)\n",
    "\n",
    "print(\"Precyzja dla każdej klasy:\", precision)"
   ]
  },
  {
   "cell_type": "markdown",
   "id": "c8ddecc6",
   "metadata": {},
   "source": [
    "# Wykorzystanie macierzy konfuzji do narysowania wykresu ciepłowego\n",
    "\n",
    "Innym sposobem do lepszej wizualizacji poprawności modelu jest wykorzystanie macierzy konfuzji która ma na celu pokazania nam, dokładnie w których miejscach nasz model się pomylił lub miał rację, to znaczy każdego typu kwiatów który model uznał za prawidłowy jest podany typ kwiatu, który był do zgadnięcia i potem jest to sumowane żeby zdobyć ogólny obraz. Na podstawie naszej macierzy można zauważyć, że w większości przypadków nasz model miał rację i pomylił się tylko jednokrotnie, gdyż próbował przypisać kwiatu Versicolor kwiat Virginica co jest oczywiście błędne.\n"
   ]
  },
  {
   "cell_type": "code",
   "execution_count": 34,
   "id": "c7e38f48",
   "metadata": {},
   "outputs": [
    {
     "data": {
      "text/plain": [
       "<Axes: >"
      ]
     },
     "execution_count": 34,
     "metadata": {},
     "output_type": "execute_result"
    },
    {
     "data": {
      "image/png": "[encoded data removed]",
      "text/plain": [
       "<Figure size 640x480 with 2 Axes>"
      ]
     },
     "metadata": {},
     "output_type": "display_data"
    }
   ],
   "source": [
    "from sklearn.metrics import confusion_matrix\n",
    "\n",
    "class_names = iris.target_names\n",
    "\n",
    "cm = confusion_matrix(y_test, y_pred)\n",
    "\n",
    "cm_matrix = pd.DataFrame(data=cm, columns=class_names, index=class_names)\n",
    "\n",
    "sns.heatmap(cm_matrix, annot=True, fmt='d', cmap='YlGnBu')"
   ]
  },
  {
   "cell_type": "markdown",
   "id": "b3151ed4",
   "metadata": {},
   "source": [
    "# Metoda predict_proba\n",
    "\n",
    "Możemy też wykorzystać metodę predict_proba na obiekcie modelu, która oblicza jakie było prawdopodobieństwo tego, że wybrany kwiat należy do danej kategorii. Na podstawie wyświetlonego dataframe'u można dojść do wniosku, że w wielu przypadkach prawdopodobieństwo było tak duże że jest praktycznie pewne, a w niektórych tak małe że jest praktycznie niemożliwe.\n"
   ]
  },
  {
   "cell_type": "code",
   "execution_count": 35,
   "id": "adf7fd6e",
   "metadata": {},
   "outputs": [
    {
     "data": {
      "text/html": [
       "<div>\n",
       "<style scoped>\n",
       "    .dataframe tbody tr th:only-of-type {\n",
       "        vertical-align: middle;\n",
       "    }\n",
       "\n",
       "    .dataframe tbody tr th {\n",
       "        vertical-align: top;\n",
       "    }\n",
       "\n",
       "    .dataframe thead th {\n",
       "        text-align: right;\n",
       "    }\n",
       "</style>\n",
       "<table border=\"1\" class=\"dataframe\">\n",
       "  <thead>\n",
       "    <tr style=\"text-align: right;\">\n",
       "      <th></th>\n",
       "      <th>0</th>\n",
       "      <th>1</th>\n",
       "      <th>2</th>\n",
       "    </tr>\n",
       "  </thead>\n",
       "  <tbody>\n",
       "    <tr>\n",
       "      <th>0</th>\n",
       "      <td>4.158701e-88</td>\n",
       "      <td>9.955278e-01</td>\n",
       "      <td>4.472165e-03</td>\n",
       "    </tr>\n",
       "    <tr>\n",
       "      <th>1</th>\n",
       "      <td>1.000000e+00</td>\n",
       "      <td>1.310311e-13</td>\n",
       "      <td>2.217720e-20</td>\n",
       "    </tr>\n",
       "    <tr>\n",
       "      <th>2</th>\n",
       "      <td>9.830853e-285</td>\n",
       "      <td>2.701383e-12</td>\n",
       "      <td>1.000000e+00</td>\n",
       "    </tr>\n",
       "    <tr>\n",
       "      <th>3</th>\n",
       "      <td>9.547171e-92</td>\n",
       "      <td>9.748614e-01</td>\n",
       "      <td>2.513857e-02</td>\n",
       "    </tr>\n",
       "    <tr>\n",
       "      <th>4</th>\n",
       "      <td>1.086763e-103</td>\n",
       "      <td>8.319107e-01</td>\n",
       "      <td>1.680893e-01</td>\n",
       "    </tr>\n",
       "    <tr>\n",
       "      <th>5</th>\n",
       "      <td>1.000000e+00</td>\n",
       "      <td>6.776933e-13</td>\n",
       "      <td>7.148908e-21</td>\n",
       "    </tr>\n",
       "    <tr>\n",
       "      <th>6</th>\n",
       "      <td>2.799808e-51</td>\n",
       "      <td>9.999639e-01</td>\n",
       "      <td>3.607492e-05</td>\n",
       "    </tr>\n",
       "    <tr>\n",
       "      <th>7</th>\n",
       "      <td>3.471082e-172</td>\n",
       "      <td>4.260991e-07</td>\n",
       "      <td>9.999996e-01</td>\n",
       "    </tr>\n",
       "    <tr>\n",
       "      <th>8</th>\n",
       "      <td>8.873981e-94</td>\n",
       "      <td>9.935781e-01</td>\n",
       "      <td>6.421885e-03</td>\n",
       "    </tr>\n",
       "    <tr>\n",
       "      <th>9</th>\n",
       "      <td>1.015240e-57</td>\n",
       "      <td>9.999529e-01</td>\n",
       "      <td>4.711523e-05</td>\n",
       "    </tr>\n",
       "  </tbody>\n",
       "</table>\n",
       "</div>"
      ],
      "text/plain": [
       "               0             1             2\n",
       "0   4.158701e-88  9.955278e-01  4.472165e-03\n",
       "1   1.000000e+00  1.310311e-13  2.217720e-20\n",
       "2  9.830853e-285  2.701383e-12  1.000000e+00\n",
       "3   9.547171e-92  9.748614e-01  2.513857e-02\n",
       "4  1.086763e-103  8.319107e-01  1.680893e-01\n",
       "5   1.000000e+00  6.776933e-13  7.148908e-21\n",
       "6   2.799808e-51  9.999639e-01  3.607492e-05\n",
       "7  3.471082e-172  4.260991e-07  9.999996e-01\n",
       "8   8.873981e-94  9.935781e-01  6.421885e-03\n",
       "9   1.015240e-57  9.999529e-01  4.711523e-05"
      ]
     },
     "execution_count": 35,
     "metadata": {},
     "output_type": "execute_result"
    }
   ],
   "source": [
    "y_pred_prob = gnb.predict_proba(X_test)[0:10]\n",
    "\n",
    "class_labels = sorted(gnb.classes)\n",
    "\n",
    "y_pred_prob_df = pd.DataFrame(data=y_pred_prob, columns=class_labels)\n",
    "\n",
    "y_pred_prob_df"
   ]
  },
  {
   "cell_type": "markdown",
   "id": "8f730acd",
   "metadata": {},
   "source": [
    "# Przypisz prawdopodobieństwa i narysuj wykresy\n",
    "\n",
    "Ostatnim sposobem do ewaluacji danych w tym przykładzie jest narysowanie wykresu na podstawie wspomnianej wcześniej metody predict_proba. Tworzymy macierz na podstawie tych wyników oraz przypisujemy każdej zmiennej y, kolumnę macierzy która odpowiada za rodzaj kwiatu. Następnie rysujemy histogram za pomocą biblioteki matplotlib. Na podstawie histogramu można wyciągnąć wniosek, że większość rozkładu znajduje się w pobliżu 0, oraz w pobliżu 1, czyli tak jak wspomniałem wcześniej prawdopodobieństwo w znacznej ilości przypadków było pewne, a tylko w niektórych rozłożonych w środku były jakieś wahania co mogło sprawić że nasz model się mógł pomylić.\n"
   ]
  },
  {
   "cell_type": "code",
   "execution_count": 36,
   "id": "fbd5ec4e",
   "metadata": {},
   "outputs": [
    {
     "data": {
      "image/png": "[encoded data removed]",
      "text/plain": [
       "<Figure size 1000x600 with 1 Axes>"
      ]
     },
     "metadata": {},
     "output_type": "display_data"
    }
   ],
   "source": [
    "import numpy as np\n",
    "\n",
    "proba_matrix = np.array([list(probs.values()) for probs in gnb.predict_proba(X_test)])\n",
    "\n",
    "y_pred_setosa = proba_matrix[:, 0]\n",
    "y_pred_versicolor = proba_matrix[:, 1]\n",
    "y_pred_virginica = proba_matrix[:, 2]\n",
    "\n",
    "plt.rcParams['font.size'] = 12\n",
    "\n",
    "plt.figure(figsize=(10, 6))\n",
    "\n",
    "plt.hist(y_pred_setosa, bins=10, alpha=0.5, label='Setosa', color='blue')\n",
    "plt.hist(y_pred_versicolor, bins=10, alpha=0.5, label='Versicolor', color='orange')\n",
    "plt.hist(y_pred_virginica, bins=10, alpha=0.5, label='Virginica', color='green')\n",
    "\n",
    "plt.title('Histogram z przewidzianymi prawdopodobieństwami dla trzech klas')\n",
    "plt.xlabel('Prawdopodobieństwo')\n",
    "plt.ylabel('Liczba próbek')\n",
    "plt.legend()\n",
    "\n",
    "plt.show()\n"
   ]
  },
  {
   "cell_type": "markdown",
   "id": "7ba0e315",
   "metadata": {},
   "source": [
    "# Podsumowanie\n",
    "\n",
    "Podsumowując, wykorzystaliśmy dane ze zbioru danych IRIS przedstawiające próbki z trzema rodzajami irysów. Następnie przygotowaliśmy dane w taki sposób, aby były kompatybilne z naszym modelem i dało się na nich operować. Potem wykorzystaliśmy te dane na na naszym Naiwnym Klasyfikatorze Bayesowym Gaussa za pomocą metody fit, w celu nauczenia go na podstawie tych danych. Na tak nauczonym modelu, mogliśmy użyć metody predict, do przetestowania naszego modelu na podstawie zbioru danych testowych. Potem wykonaliśmy ewaluację naszych wyników i sprawdziliśmy czy są one wiarygodne, oraz czy nasz model działa poprawnie. Na podstawie wysokiej precyzji, oraz braku oznak overfittingu i underfittingu można uznać że nasz model działa prawidłowo i może być godnym zaufania źródłem przewidywań statystycznych.\n"
   ]
  }
 ],
 "metadata": {
  "kernelspec": {
   "display_name": "Lab_04-pKe7vWKa",
   "language": "python",
   "name": "python3"
  },
  "language_info": {
   "codemirror_mode": {
    "name": "ipython",
    "version": 3
   },
   "file_extension": ".py",
   "mimetype": "text/x-python",
   "name": "python",
   "nbconvert_exporter": "python",
   "pygments_lexer": "ipython3",
   "version": "3.11.9"
  }
 },
 "nbformat": 4,
 "nbformat_minor": 5
}
