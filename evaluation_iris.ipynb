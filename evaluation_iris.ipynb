{
 "cells": [
  {
   "cell_type": "markdown",
   "id": "aab2512a",
   "metadata": {},
   "source": [
    "# Załadowanie bibliotek oraz danych\n",
    "\n",
    "Wykorzystujemy tutaj biblioteki:\n",
    "\n",
    "- `pandas` do manipulacji danymi,\n",
    "- `matplotlib` i `seaborn` do wizualizacji,\n",
    "- `sklearn.datasets` do załadowania wbudowanego zbioru danych Iris.\n",
    "\n",
    "Tworzymy następnie `DataFrame`, któremu przypisujemy nazwy kolumn, a na końcu wyświetlamy pierwsze pięć wierszy danych, aby upewnić się, że załadowano je prawidłowo.\n"
   ]
  },
  {
   "cell_type": "code",
   "execution_count": 197,
   "id": "9c954d3f",
   "metadata": {},
   "outputs": [
    {
     "data": {
      "text/html": [
       "<div>\n",
       "<style scoped>\n",
       "    .dataframe tbody tr th:only-of-type {\n",
       "        vertical-align: middle;\n",
       "    }\n",
       "\n",
       "    .dataframe tbody tr th {\n",
       "        vertical-align: top;\n",
       "    }\n",
       "\n",
       "    .dataframe thead th {\n",
       "        text-align: right;\n",
       "    }\n",
       "</style>\n",
       "<table border=\"1\" class=\"dataframe\">\n",
       "  <thead>\n",
       "    <tr style=\"text-align: right;\">\n",
       "      <th></th>\n",
       "      <th>sepal length (cm)</th>\n",
       "      <th>sepal width (cm)</th>\n",
       "      <th>petal length (cm)</th>\n",
       "      <th>petal width (cm)</th>\n",
       "    </tr>\n",
       "  </thead>\n",
       "  <tbody>\n",
       "    <tr>\n",
       "      <th>0</th>\n",
       "      <td>5.1</td>\n",
       "      <td>3.5</td>\n",
       "      <td>1.4</td>\n",
       "      <td>0.2</td>\n",
       "    </tr>\n",
       "    <tr>\n",
       "      <th>1</th>\n",
       "      <td>4.9</td>\n",
       "      <td>3.0</td>\n",
       "      <td>1.4</td>\n",
       "      <td>0.2</td>\n",
       "    </tr>\n",
       "    <tr>\n",
       "      <th>2</th>\n",
       "      <td>4.7</td>\n",
       "      <td>3.2</td>\n",
       "      <td>1.3</td>\n",
       "      <td>0.2</td>\n",
       "    </tr>\n",
       "    <tr>\n",
       "      <th>3</th>\n",
       "      <td>4.6</td>\n",
       "      <td>3.1</td>\n",
       "      <td>1.5</td>\n",
       "      <td>0.2</td>\n",
       "    </tr>\n",
       "    <tr>\n",
       "      <th>4</th>\n",
       "      <td>5.0</td>\n",
       "      <td>3.6</td>\n",
       "      <td>1.4</td>\n",
       "      <td>0.2</td>\n",
       "    </tr>\n",
       "  </tbody>\n",
       "</table>\n",
       "</div>"
      ],
      "text/plain": [
       "   sepal length (cm)  sepal width (cm)  petal length (cm)  petal width (cm)\n",
       "0                5.1               3.5                1.4               0.2\n",
       "1                4.9               3.0                1.4               0.2\n",
       "2                4.7               3.2                1.3               0.2\n",
       "3                4.6               3.1                1.5               0.2\n",
       "4                5.0               3.6                1.4               0.2"
      ]
     },
     "execution_count": 197,
     "metadata": {},
     "output_type": "execute_result"
    }
   ],
   "source": [
    "# Importujemy wymagane biblioteki\n",
    "import pandas as pd\n",
    "import matplotlib.pyplot as plt\n",
    "import seaborn as sns\n",
    "from sklearn.datasets import load_iris\n",
    "\n",
    "# Ustawienie trybu inline dla wykresów\n",
    "%matplotlib inline\n",
    "\n",
    "# Załadowanie zbioru danych Iris\n",
    "iris = load_iris()\n",
    "\n",
    "# Tworzymy DataFrame z odpowiednimi nazwami kolumn\n",
    "df = pd.DataFrame(data=iris.data, columns=iris.feature_names)\n",
    "\n",
    "# Wyświetlamy pierwsze 5 wierszy, aby sprawdzić poprawność załadowanych danych\n",
    "df.head()"
   ]
  },
  {
   "cell_type": "markdown",
   "id": "b9e56e5f",
   "metadata": {},
   "source": [
    "# Dodanie kolumny z rodzajem kwiatu\n",
    "\n",
    "Aby ułatwić pracę z danymi, zmieniamy domyślne nazwy kolumn na bardziej zrozumiałe:\n",
    "\n",
    "- `sepal_length` – długość działki kielicha (cm),\n",
    "- `sepal_width` – szerokość działki kielicha (cm),\n",
    "- `petal_length` – długość płatka (cm),\n",
    "- `petal_width` – szerokość płatka (cm).\n",
    "\n",
    "Dodajemy również kolumnę `variety`, która będzie reprezentować gatunek kwiatu:\n",
    "\n",
    "- `0` – Setosa\n",
    "- `1` – Versicolor\n",
    "- `2` – Virginica\n",
    "\n",
    "  Na końcu wyświetlamy pierwsze 5 wierszy zaktualizowanego zbioru danych, aby upewnić się, że kolumna została poprawnie dodana.\n"
   ]
  },
  {
   "cell_type": "code",
   "execution_count": 198,
   "id": "4dc5079b",
   "metadata": {},
   "outputs": [
    {
     "data": {
      "text/html": [
       "<div>\n",
       "<style scoped>\n",
       "    .dataframe tbody tr th:only-of-type {\n",
       "        vertical-align: middle;\n",
       "    }\n",
       "\n",
       "    .dataframe tbody tr th {\n",
       "        vertical-align: top;\n",
       "    }\n",
       "\n",
       "    .dataframe thead th {\n",
       "        text-align: right;\n",
       "    }\n",
       "</style>\n",
       "<table border=\"1\" class=\"dataframe\">\n",
       "  <thead>\n",
       "    <tr style=\"text-align: right;\">\n",
       "      <th></th>\n",
       "      <th>sepal_length</th>\n",
       "      <th>sepal_width</th>\n",
       "      <th>petal_length</th>\n",
       "      <th>petal_width</th>\n",
       "      <th>variety</th>\n",
       "    </tr>\n",
       "  </thead>\n",
       "  <tbody>\n",
       "    <tr>\n",
       "      <th>0</th>\n",
       "      <td>5.1</td>\n",
       "      <td>3.5</td>\n",
       "      <td>1.4</td>\n",
       "      <td>0.2</td>\n",
       "      <td>0</td>\n",
       "    </tr>\n",
       "    <tr>\n",
       "      <th>1</th>\n",
       "      <td>4.9</td>\n",
       "      <td>3.0</td>\n",
       "      <td>1.4</td>\n",
       "      <td>0.2</td>\n",
       "      <td>0</td>\n",
       "    </tr>\n",
       "    <tr>\n",
       "      <th>2</th>\n",
       "      <td>4.7</td>\n",
       "      <td>3.2</td>\n",
       "      <td>1.3</td>\n",
       "      <td>0.2</td>\n",
       "      <td>0</td>\n",
       "    </tr>\n",
       "    <tr>\n",
       "      <th>3</th>\n",
       "      <td>4.6</td>\n",
       "      <td>3.1</td>\n",
       "      <td>1.5</td>\n",
       "      <td>0.2</td>\n",
       "      <td>0</td>\n",
       "    </tr>\n",
       "    <tr>\n",
       "      <th>4</th>\n",
       "      <td>5.0</td>\n",
       "      <td>3.6</td>\n",
       "      <td>1.4</td>\n",
       "      <td>0.2</td>\n",
       "      <td>0</td>\n",
       "    </tr>\n",
       "  </tbody>\n",
       "</table>\n",
       "</div>"
      ],
      "text/plain": [
       "   sepal_length  sepal_width  petal_length  petal_width  variety\n",
       "0           5.1          3.5           1.4          0.2        0\n",
       "1           4.9          3.0           1.4          0.2        0\n",
       "2           4.7          3.2           1.3          0.2        0\n",
       "3           4.6          3.1           1.5          0.2        0\n",
       "4           5.0          3.6           1.4          0.2        0"
      ]
     },
     "execution_count": 198,
     "metadata": {},
     "output_type": "execute_result"
    }
   ],
   "source": [
    "# Dodanie kolumny z gatunkiem kwiatu\n",
    "df['variety'] = iris.target\n",
    "\n",
    "# Aktualizacja nazw kolumn na bardziej czytelne\n",
    "df.columns = ['sepal_length', 'sepal_width', 'petal_length', 'petal_width', 'variety']\n",
    "\n",
    "# Wyświetlenie pierwszych 5 wierszy zaktualizowanego DataFrame\n",
    "df.head()"
   ]
  },
  {
   "cell_type": "markdown",
   "id": "6ef5122b",
   "metadata": {},
   "source": [
    "# Podzielenie danych na X i y\n",
    "\n",
    "W tym kroku dzielimy dane na:\n",
    "\n",
    "- **X** (cechy, czyli wartości wejściowe modelu) – zawiera wszystkie kolumny poza `variety`.\n",
    "- **y** (etykiety, czyli wartości wyjściowe modelu) – zawiera tylko kolumnę `variety`.\n",
    "\n",
    "Aby usunąć kolumnę `variety` z `X`, używamy metody `df.drop`, która pozwala łatwo usuwać kolumny z DataFrame. Kolumna ta jest przypisywana osobno do zmiennej `y`.\n"
   ]
  },
  {
   "cell_type": "code",
   "execution_count": 199,
   "id": "26a137b1",
   "metadata": {},
   "outputs": [
    {
     "data": {
      "text/plain": [
       "((150, 4), (150,))"
      ]
     },
     "execution_count": 199,
     "metadata": {},
     "output_type": "execute_result"
    }
   ],
   "source": [
    "# Podzielenie danych na cechy (X) i etykiety (y)\n",
    "X = df.drop(columns=['variety'])  # Usunięcie kolumny 'variety' i przypisanie do X\n",
    "y = df['variety']  # Przypisanie kolumny 'variety' do y\n",
    "\n",
    "# Sprawdzenie kształtu zbiorów, aby upewnić się, że dane są podzielone poprawnie\n",
    "X.shape, y.shape"
   ]
  },
  {
   "cell_type": "markdown",
   "id": "d8489fa5",
   "metadata": {},
   "source": [
    "# Podzielenie danych na dane treningowe i testowe\n",
    "\n",
    "Aby ocenić nasz model, musimy podzielić dane na dwie części:\n",
    "\n",
    "- **Dane treningowe (70%)** – używane do trenowania modelu.\n",
    "- **Dane testowe (30%)** – używane do sprawdzenia, jak dobrze model przewiduje na nowych danych.\n",
    "\n",
    "Do tego celu wykorzystujemy funkcję `train_test_split` z biblioteki `sklearn`. Kluczowe parametry:\n",
    "\n",
    "- **X**: cechy wejściowe,\n",
    "- **y**: etykiety,\n",
    "- **test_size**: określa proporcję danych testowych (0.3 oznacza 30% danych),\n",
    "- **random_state**: ustawienie dla powtarzalności wyników.\n",
    "\n",
    "Funkcja zwraca cztery zestawy danych:\n",
    "\n",
    "- `X_train`, `y_train`: dane treningowe,\n",
    "- `X_test`, `y_test`: dane testowe.\n"
   ]
  },
  {
   "cell_type": "code",
   "execution_count": 200,
   "id": "d51a85f5",
   "metadata": {},
   "outputs": [
    {
     "name": "stdout",
     "output_type": "stream",
     "text": [
      "Rozmiar danych treningowych: 105 próbek\n",
      "Rozmiar danych testowych: 45 próbek\n"
     ]
    }
   ],
   "source": [
    "from sklearn.model_selection import train_test_split\n",
    "\n",
    "# Podział danych na treningowe i testowe\n",
    "X_train, X_test, y_train, y_test = train_test_split(X, y, test_size=0.3, random_state=42)\n",
    "\n",
    "# Wyświetlenie rozmiarów zbiorów, aby potwierdzić podział\n",
    "print(f\"Rozmiar danych treningowych: {X_train.shape[0]} próbek\")\n",
    "print(f\"Rozmiar danych testowych: {X_test.shape[0]} próbek\")"
   ]
  },
  {
   "cell_type": "markdown",
   "id": "84838219",
   "metadata": {},
   "source": [
    "# Przeskalowanie danych\n",
    "\n",
    "Aby poprawić wydajność i skuteczność naszego modelu, stosujemy **standaryzację** danych za pomocą `StandardScaler` z biblioteki `sklearn`.\n",
    "\n",
    "Standaryzacja polega na przekształceniu danych tak, aby miały:\n",
    "\n",
    "- Średnią równą **0**,\n",
    "- Odchylenie standardowe równe **1**.\n",
    "\n",
    "Skalowanie danych jest szczególnie ważne w przypadku algorytmów wrażliwych na różne skale cech, takich jak regresja logistyczna, SVM, czy metody bazujące na odległościach.\n",
    "\n",
    "Proces skalowania:\n",
    "\n",
    "1. **Dopasowanie (fit)**: Obliczamy średnią i odchylenie standardowe na danych treningowych za pomocą `fit`.\n",
    "2. **Transformacja**: Skalujemy dane treningowe i testowe:\n",
    "   - `X_train` – skalowany za pomocą `fit_transform`,\n",
    "   - `X_test` – skalowany za pomocą wyuczonych parametrów (`transform`).\n",
    "\n",
    "**Uwaga:** Nigdy nie dopasowujemy skalera (`fit`) na danych testowych, aby uniknąć wycieku informacji.\n"
   ]
  },
  {
   "cell_type": "code",
   "execution_count": 201,
   "id": "803af660",
   "metadata": {},
   "outputs": [
    {
     "name": "stdout",
     "output_type": "stream",
     "text": [
      "Przeskalowane dane treningowe (pierwsze 5 próbek):\n",
      " [[-0.4134164  -1.46200287 -0.09951105 -0.32339776]\n",
      " [ 0.55122187 -0.50256349  0.71770262  0.35303182]\n",
      " [ 0.67180165  0.21701605  0.95119225  0.75888956]\n",
      " [ 0.91296121 -0.02284379  0.30909579  0.2177459 ]\n",
      " [ 1.63643991  1.41631528  1.30142668  1.70589097]]\n"
     ]
    }
   ],
   "source": [
    "from sklearn.preprocessing import StandardScaler\n",
    "\n",
    "# Tworzenie instancji skalera\n",
    "scaler = StandardScaler()\n",
    "\n",
    "# Dopasowanie skalera do danych treningowych i przekształcenie danych\n",
    "X_train = scaler.fit_transform(X_train)\n",
    "\n",
    "# Przekształcenie danych testowych na podstawie parametrów ze zbioru treningowego\n",
    "X_test = scaler.transform(X_test)\n",
    "\n",
    "# Wyświetlenie pierwszych 5 próbek przeskalowanych danych treningowych\n",
    "print(\"Przeskalowane dane treningowe (pierwsze 5 próbek):\\n\", X_train[:5])\n"
   ]
  },
  {
   "cell_type": "markdown",
   "id": "716796b0",
   "metadata": {},
   "source": [
    "# Nakarmienie modelu danymi treningowymi\n",
    "\n",
    "Po odpowiednim przygotowaniu danych możemy zastosować naszą implementację Gaussowego Naiwnego Klasyfikatora Bayesa do nauczenia modelu. W tym celu:\n",
    "\n",
    "1. Importujemy naszą własną klasę `GaussianNaiveBayesClassifier`.\n",
    "2. Tworzymy instancję klasyfikatora.\n",
    "3. Trenujemy model za pomocą metody `fit`, przekazując:\n",
    "   - `X_train`: macierz cech dla danych treningowych,\n",
    "   - `y_train`: etykiety klas odpowiadające danym treningowym.\n",
    "\n",
    "Poniżej znajduje się kod realizujący te kroki.\n"
   ]
  },
  {
   "cell_type": "code",
   "execution_count": 202,
   "id": "821b499f",
   "metadata": {},
   "outputs": [
    {
     "name": "stdout",
     "output_type": "stream",
     "text": [
      "Model został pomyślnie wytrenowany.\n"
     ]
    }
   ],
   "source": [
    "# Importujemy własną implementację Gaussowego Naiwnego Klasyfikatora Bayesa\n",
    "from GaussianNaiveBayesClassifier import GaussianNaiveBayesClassifier\n",
    "\n",
    "# Tworzymy instancję klasyfikatora\n",
    "gnb = GaussianNaiveBayesClassifier()\n",
    "\n",
    "# Trenujemy model na danych treningowych\n",
    "gnb.fit(X_train, y_train)\n",
    "\n",
    "# Informujemy użytkownika o sukcesie\n",
    "print(\"Model został pomyślnie wytrenowany.\")"
   ]
  },
  {
   "cell_type": "markdown",
   "id": "91b5ba86",
   "metadata": {},
   "source": [
    "# Wykonanie przewidywań na wyuczonym modelu\n",
    "\n",
    "W tym kroku korzystamy z wytrenowanego modelu, aby przewidzieć klasy dla danych testowych:\n",
    "\n",
    "1. Używamy metody `predict` na obiekcie klasyfikatora `gnb`.\n",
    "2. Przekazujemy `X_test` jako argument do metody `predict`.\n",
    "   - `X_test` to zestaw cech testowych, który posłuży jako \"test wiedzy\" dla modelu.\n",
    "3. Wyniki przewidywań przypisujemy do zmiennej `y_pred`, która reprezentuje odpowiedzi modelu na ten test.\n",
    "\n",
    "Poniżej znajduje się kod realizujący ten etap.\n"
   ]
  },
  {
   "cell_type": "code",
   "execution_count": 203,
   "id": "774beb7d",
   "metadata": {},
   "outputs": [
    {
     "name": "stdout",
     "output_type": "stream",
     "text": [
      "Przewidywania zostały wykonane.\n"
     ]
    }
   ],
   "source": [
    "# Wykonujemy przewidywania na danych testowych\n",
    "# X_test: macierz cech dla danych testowych\n",
    "# y_pred: przewidywane etykiety klas dla danych testowych\n",
    "y_pred = gnb.predict(X_test)\n",
    "\n",
    "# Wyświetlamy komunikat informujący, że proces przewidywań został zakończony\n",
    "print(\"Przewidywania zostały wykonane.\")"
   ]
  },
  {
   "cell_type": "markdown",
   "id": "83aabe1c",
   "metadata": {},
   "source": [
    "# Sprawdzenie dokładności oraz analiza overfittingu i underfittingu\n",
    "\n",
    "Po wykonaniu przewidywań sprawdzamy dokładność modelu, aby ocenić jego wydajność i upewnić się, czy nie występuje zjawisko:\n",
    "\n",
    "- **Overfitting** (przeuczenia): gdy model radzi sobie bardzo dobrze na danych treningowych, ale słabo na testowych.\n",
    "- **Underfitting** (niedouczenia): gdy model nie potrafi dobrze dopasować się ani do danych treningowych, ani testowych.\n",
    "\n",
    "W tym celu:\n",
    "\n",
    "1. Używamy metody `score` na obiekcie `gnb`, która oblicza dokładność modelu na danych:\n",
    "   - `X_train` i `y_train`: dane treningowe,\n",
    "   - `X_test` i `y_test`: dane testowe.\n",
    "2. Porównujemy wyniki dla danych treningowych i testowych:\n",
    "   - Jeśli różnice między wynikami są duże, może to wskazywać na overfitting lub underfitting.\n",
    "   - Jeśli wyniki są zbliżone, oznacza to, że model dobrze generalizuje.\n",
    "\n",
    "Poniżej znajduje się kod realizujący ten proces.\n"
   ]
  },
  {
   "cell_type": "code",
   "execution_count": 204,
   "id": "5a3f32f9",
   "metadata": {},
   "outputs": [
    {
     "name": "stdout",
     "output_type": "stream",
     "text": [
      "Wynik danych treningowych: 0.9429\n",
      "Wynik danych testowych: 0.9778\n",
      "Model dobrze generalizuje (wyniki są zbliżone).\n"
     ]
    }
   ],
   "source": [
    "# Sprawdzamy dokładność modelu na danych treningowych\n",
    "train_score = gnb.score(X_train, y_train)\n",
    "print('Wynik danych treningowych: {:.4f}'.format(train_score))\n",
    "\n",
    "# Sprawdzamy dokładność modelu na danych testowych\n",
    "test_score = gnb.score(X_test, y_test)\n",
    "print('Wynik danych testowych: {:.4f}'.format(test_score))\n",
    "\n",
    "# Wnioski\n",
    "if abs(train_score - test_score) < 0.1:\n",
    "    print(\"Model dobrze generalizuje (wyniki są zbliżone).\")\n",
    "elif train_score > test_score:\n",
    "    print(\"Możliwy overfitting (przeuczenie): wynik na danych treningowych jest dużo wyższy.\")\n",
    "else:\n",
    "    print(\"Możliwy underfitting (niedouczenie): wynik na danych testowych jest wyższy od treningowych.\")\n"
   ]
  },
  {
   "cell_type": "markdown",
   "id": "56248fa7",
   "metadata": {},
   "source": [
    "### Obliczenie precyzji modelu\n",
    "\n",
    "Precyzja mierzy, jak skutecznie model klasyfikuje próbki do każdej klasy, minimalizując błędne przypisania.\n",
    "Precyzję oblicza się za pomocą wzoru:\n",
    "\n",
    "$$ \\text{Precyzja} = \\frac{TP}{TP + FP} $$\n",
    "\n",
    "Gdzie:\n",
    "\n",
    "- **TP** (True Positives): liczba poprawnie przypisanych próbek do danej klasy.\n",
    "- **FP** (False Positives): liczba próbek błędnie przypisanych do danej klasy.\n",
    "\n",
    "#### Kroki:\n",
    "\n",
    "1. Używamy funkcji `precision_score` z biblioteki `sklearn.metrics`.\n",
    "2. Obliczamy precyzję dla każdej klasy osobno, używając argumentu `average=None`.\n",
    "\n",
    "#### Wynik:\n",
    "\n",
    "Wyniki precyzji dla każdej klasy są wypisane poniżej. Analiza:\n",
    "\n",
    "- Klasa 0: **1.0** – brak błędnych przypisań.\n",
    "- Klasa 1: **1.0** – brak błędnych przypisań.\n",
    "- Klasa 2: **0.93** – model nieco częściej przypisuje próbki do tej klasy błędnie.\n",
    "\n",
    "Wysoka precyzja ogólnie wskazuje, że model skutecznie klasyfikuje próbki do odpowiednich klas.\n"
   ]
  },
  {
   "cell_type": "code",
   "execution_count": 212,
   "id": "c0fce01a",
   "metadata": {},
   "outputs": [
    {
     "name": "stdout",
     "output_type": "stream",
     "text": [
      "Precyzja dla każdej klasy: [1.         1.         0.92857143]\n",
      "Klasa 0: Precyzja 1.00\n",
      "Klasa 1: Precyzja 1.00\n",
      "Klasa 2: Precyzja 0.93\n"
     ]
    }
   ],
   "source": [
    "# Importujemy funkcję precision_score\n",
    "from sklearn.metrics import precision_score\n",
    "\n",
    "# Obliczamy precyzję dla każdej klasy\n",
    "precision = precision_score(y_test, y_pred, average=None)\n",
    "\n",
    "# Wyświetlamy precyzję dla każdej klasy\n",
    "print(\"Precyzja dla każdej klasy:\", precision)\n",
    "\n",
    "# Szczegółowa analiza wyników\n",
    "for i, prec in enumerate(precision):\n",
    "    print(f\"Klasa {i}: Precyzja {prec:.2f}\")"
   ]
  },
  {
   "cell_type": "markdown",
   "id": "c8ddecc6",
   "metadata": {},
   "source": [
    "# Wykorzystanie macierzy konfuzji do wizualizacji wyników modelu\n",
    "\n",
    "Macierz konfuzji to narzędzie do oceny jakości modelu klasyfikacyjnego. Przedstawia ona liczbę przypadków prawidłowo i błędnie przypisanych przez model dla każdej klasy.\n",
    "\n",
    "#### Interpretacja:\n",
    "\n",
    "1. Wiersze macierzy odpowiadają rzeczywistym klasom.\n",
    "2. Kolumny macierzy odpowiadają klasom przewidzianym przez model.\n",
    "3. Wartości w macierzy pokazują, ile razy dana klasa została przypisana poprawnie lub błędnie.\n",
    "\n",
    "Wykres ciepłowy (heatmap) wizualizuje macierz konfuzji, ułatwiając identyfikację obszarów, gdzie model popełnia błędy.\n",
    "\n",
    "#### Przykład:\n",
    "\n",
    "- Jeśli wartość poza przekątną macierzy jest niezerowa, oznacza to błędną klasyfikację.\n",
    "- W naszym przykładzie model pomylił jedną próbkę, przypisując ją do niewłaściwej klasy (Versicolor jako Virginica).\n",
    "\n",
    "Poniżej znajduje się kod do stworzenia wykresu ciepłowego macierzy konfuzji.\n"
   ]
  },
  {
   "cell_type": "code",
   "execution_count": 206,
   "id": "c7e38f48",
   "metadata": {},
   "outputs": [
    {
     "data": {
      "image/png": "[encoded data removed]",
      "text/plain": [
       "<Figure size 800x600 with 2 Axes>"
      ]
     },
     "metadata": {},
     "output_type": "display_data"
    }
   ],
   "source": [
    "# Importujemy metodę confusion_matrix\n",
    "from sklearn.metrics import confusion_matrix\n",
    "\n",
    "# Nazwy klas (typy kwiatów w zbiorze Iris)\n",
    "class_names = iris.target_names\n",
    "\n",
    "# Tworzymy macierz konfuzji\n",
    "cm = confusion_matrix(y_test, y_pred)\n",
    "\n",
    "# Tworzymy DataFrame dla lepszej czytelności\n",
    "cm_matrix = pd.DataFrame(data=cm, columns=class_names, index=class_names)\n",
    "\n",
    "# Rysujemy wykres ciepłowy (heatmap)\n",
    "plt.figure(figsize=(8, 6))\n",
    "sns.heatmap(cm_matrix, annot=True, fmt='d', cmap='YlGnBu', cbar=True)\n",
    "plt.title(\"Macierz konfuzji - Wykres ciepłowy\")\n",
    "plt.xlabel(\"Przewidywane klasy\")\n",
    "plt.ylabel(\"Rzeczywiste klasy\")\n",
    "plt.show()\n"
   ]
  },
  {
   "cell_type": "markdown",
   "id": "b3151ed4",
   "metadata": {},
   "source": [
    "# Analiza prawdopodobieństw klasyfikacji za pomocą metody `predict_proba`\n",
    "\n",
    "Metoda `predict_proba` na modelu klasyfikatora pozwala obliczyć prawdopodobieństwo przypisania danej próbki do każdej z dostępnych klas. Dzięki temu możemy zobaczyć, jak pewny był model swoich przewidywań.\n",
    "\n",
    "#### Interpretacja:\n",
    "\n",
    "1. Każda próbka ma przypisane prawdopodobieństwo przynależności do każdej klasy.\n",
    "2. Wysokie prawdopodobieństwo (bliskie 1) dla jednej klasy i niskie dla innych wskazuje na wysoką pewność modelu.\n",
    "3. Jeśli różnice między prawdopodobieństwami są niewielkie, oznacza to, że model nie był pewien przypisania próbki do danej klasy.\n",
    "\n",
    "Poniżej analizujemy prawdopodobieństwa dla pierwszych 10 próbek z danych testowych. Wyświetlamy wyniki w formie tabeli (DataFrame), aby były łatwe do odczytania.\n"
   ]
  },
  {
   "cell_type": "code",
   "execution_count": 207,
   "id": "adf7fd6e",
   "metadata": {},
   "outputs": [
    {
     "name": "stdout",
     "output_type": "stream",
     "text": [
      "Prawdopodobieństwa klasyfikacji dla pierwszych 10 próbek:\n"
     ]
    },
    {
     "data": {
      "text/html": [
       "<div>\n",
       "<style scoped>\n",
       "    .dataframe tbody tr th:only-of-type {\n",
       "        vertical-align: middle;\n",
       "    }\n",
       "\n",
       "    .dataframe tbody tr th {\n",
       "        vertical-align: top;\n",
       "    }\n",
       "\n",
       "    .dataframe thead th {\n",
       "        text-align: right;\n",
       "    }\n",
       "</style>\n",
       "<table border=\"1\" class=\"dataframe\">\n",
       "  <thead>\n",
       "    <tr style=\"text-align: right;\">\n",
       "      <th></th>\n",
       "      <th>0</th>\n",
       "      <th>1</th>\n",
       "      <th>2</th>\n",
       "    </tr>\n",
       "  </thead>\n",
       "  <tbody>\n",
       "    <tr>\n",
       "      <th>0</th>\n",
       "      <td>4.158701e-88</td>\n",
       "      <td>9.955278e-01</td>\n",
       "      <td>4.472165e-03</td>\n",
       "    </tr>\n",
       "    <tr>\n",
       "      <th>1</th>\n",
       "      <td>1.000000e+00</td>\n",
       "      <td>1.310311e-13</td>\n",
       "      <td>2.217720e-20</td>\n",
       "    </tr>\n",
       "    <tr>\n",
       "      <th>2</th>\n",
       "      <td>9.830853e-285</td>\n",
       "      <td>2.701383e-12</td>\n",
       "      <td>1.000000e+00</td>\n",
       "    </tr>\n",
       "    <tr>\n",
       "      <th>3</th>\n",
       "      <td>9.547171e-92</td>\n",
       "      <td>9.748614e-01</td>\n",
       "      <td>2.513857e-02</td>\n",
       "    </tr>\n",
       "    <tr>\n",
       "      <th>4</th>\n",
       "      <td>1.086763e-103</td>\n",
       "      <td>8.319107e-01</td>\n",
       "      <td>1.680893e-01</td>\n",
       "    </tr>\n",
       "    <tr>\n",
       "      <th>5</th>\n",
       "      <td>1.000000e+00</td>\n",
       "      <td>6.776933e-13</td>\n",
       "      <td>7.148908e-21</td>\n",
       "    </tr>\n",
       "    <tr>\n",
       "      <th>6</th>\n",
       "      <td>2.799808e-51</td>\n",
       "      <td>9.999639e-01</td>\n",
       "      <td>3.607492e-05</td>\n",
       "    </tr>\n",
       "    <tr>\n",
       "      <th>7</th>\n",
       "      <td>3.471082e-172</td>\n",
       "      <td>4.260991e-07</td>\n",
       "      <td>9.999996e-01</td>\n",
       "    </tr>\n",
       "    <tr>\n",
       "      <th>8</th>\n",
       "      <td>8.873981e-94</td>\n",
       "      <td>9.935781e-01</td>\n",
       "      <td>6.421885e-03</td>\n",
       "    </tr>\n",
       "    <tr>\n",
       "      <th>9</th>\n",
       "      <td>1.015240e-57</td>\n",
       "      <td>9.999529e-01</td>\n",
       "      <td>4.711523e-05</td>\n",
       "    </tr>\n",
       "  </tbody>\n",
       "</table>\n",
       "</div>"
      ],
      "text/plain": [
       "               0             1             2\n",
       "0   4.158701e-88  9.955278e-01  4.472165e-03\n",
       "1   1.000000e+00  1.310311e-13  2.217720e-20\n",
       "2  9.830853e-285  2.701383e-12  1.000000e+00\n",
       "3   9.547171e-92  9.748614e-01  2.513857e-02\n",
       "4  1.086763e-103  8.319107e-01  1.680893e-01\n",
       "5   1.000000e+00  6.776933e-13  7.148908e-21\n",
       "6   2.799808e-51  9.999639e-01  3.607492e-05\n",
       "7  3.471082e-172  4.260991e-07  9.999996e-01\n",
       "8   8.873981e-94  9.935781e-01  6.421885e-03\n",
       "9   1.015240e-57  9.999529e-01  4.711523e-05"
      ]
     },
     "execution_count": 207,
     "metadata": {},
     "output_type": "execute_result"
    }
   ],
   "source": [
    "# Obliczamy prawdopodobieństwa dla pierwszych 10 próbek z danych testowych\n",
    "y_pred_prob = gnb.predict_proba(X_test)[0:10]\n",
    "\n",
    "# Sortujemy etykiety klas, aby przypisać je do kolumn w DataFrame\n",
    "class_labels = sorted(gnb.classes)\n",
    "\n",
    "# Tworzymy DataFrame dla wyników\n",
    "y_pred_prob_df = pd.DataFrame(data=y_pred_prob, columns=class_labels)\n",
    "\n",
    "# Wyświetlamy prawdopodobieństwa\n",
    "print(\"Prawdopodobieństwa klasyfikacji dla pierwszych 10 próbek:\")\n",
    "y_pred_prob_df"
   ]
  },
  {
   "cell_type": "markdown",
   "id": "8f730acd",
   "metadata": {},
   "source": [
    "# Wizualizacja prawdopodobieństw z metody `predict_proba`\n",
    "\n",
    "Ostateczna analiza polega na wizualizacji rozkładu przewidzianych prawdopodobieństw dla każdej klasy. W tym celu tworzymy histogramy, które pokazują, jak model rozkłada prawdopodobieństwa między klasy.\n",
    "\n",
    "#### Proces:\n",
    "\n",
    "1. **Tworzenie macierzy prawdopodobieństw**: Wyodrębniamy kolumny z wynikami `predict_proba`, gdzie każda kolumna odpowiada jednej klasie.\n",
    "2. **Histogram**: Dla każdej klasy rysujemy histogram, który pokazuje liczbę próbek przypisanych z różnym prawdopodobieństwem.\n",
    "\n",
    "#### Interpretacja:\n",
    "\n",
    "- Rozkład bliski wartościom 0 i 1 oznacza, że model jest bardzo pewny swoich decyzji.\n",
    "- Rozkład w pobliżu wartości środkowych (np. 0.5) sugeruje, że model miał trudności z przypisaniem próbki do konkretnej klasy.\n",
    "\n",
    "Wynikowy histogram wizualizuje, że model był pewny swoich decyzji w większości przypadków.\n"
   ]
  },
  {
   "cell_type": "code",
   "execution_count": 209,
   "id": "fbd5ec4e",
   "metadata": {},
   "outputs": [
    {
     "data": {
      "image/png": "[encoded data removed]",
      "text/plain": [
       "<Figure size 1000x600 with 1 Axes>"
      ]
     },
     "metadata": {},
     "output_type": "display_data"
    }
   ],
   "source": [
    "import numpy as np\n",
    "\n",
    "# Tworzymy macierz prawdopodobieństw dla danych testowych\n",
    "proba_matrix = np.array([list(probs.values()) for probs in gnb.predict_proba(X_test)])\n",
    "\n",
    "# Oddzielamy prawdopodobieństwa dla każdej klasy\n",
    "y_pred_setosa = proba_matrix[:, 0]\n",
    "y_pred_versicolor = proba_matrix[:, 1]\n",
    "y_pred_virginica = proba_matrix[:, 2]\n",
    "\n",
    "# Ustawiamy wielkość czcionki na wykresie\n",
    "plt.rcParams['font.size'] = 12\n",
    "\n",
    "# Tworzymy wykres z określonym rozmiarem\n",
    "plt.figure(figsize=(10, 6))\n",
    "\n",
    "# Rysujemy histogram dla każdej klasy\n",
    "plt.hist(y_pred_setosa, bins=10, alpha=0.5, label='Setosa', color='blue')\n",
    "plt.hist(y_pred_versicolor, bins=10, alpha=0.5, label='Versicolor', color='orange')\n",
    "plt.hist(y_pred_virginica, bins=10, alpha=0.5, label='Virginica', color='green')\n",
    "\n",
    "# Dodajemy tytuł i etykiety osi\n",
    "plt.title('Histogram z przewidzianymi prawdopodobieństwami dla trzech klas')\n",
    "plt.xlabel('Prawdopodobieństwo')\n",
    "plt.ylabel('Liczba próbek')\n",
    "\n",
    "# Wyświetlamy legendę\n",
    "plt.legend()\n",
    "\n",
    "# Pokazujemy wykres\n",
    "plt.show()"
   ]
  },
  {
   "cell_type": "markdown",
   "id": "7ba0e315",
   "metadata": {},
   "source": [
    "# Podsumowanie\n",
    "\n",
    "W projekcie wykorzystaliśmy zbiór danych IRIS, zawierający informacje o trzech gatunkach irysów. Proces można podzielić na kilka kluczowych etapów:\n",
    "\n",
    "1. **Przygotowanie danych**:\n",
    "\n",
    "   - Przekształciliśmy dane, aby były kompatybilne z modelem.\n",
    "   - Podzieliliśmy zbiór danych na część treningową i testową.\n",
    "\n",
    "2. **Uczenie modelu**:\n",
    "\n",
    "   - Zastosowaliśmy Gaussowski Naiwny Klasyfikator Bayesowski, aby nauczyć model na danych treningowych za pomocą metody `fit`.\n",
    "\n",
    "3. **Przewidywania**:\n",
    "\n",
    "   - Użyliśmy metody `predict`, aby przetestować model na danych testowych i uzyskać przewidywania dla próbek.\n",
    "\n",
    "4. **Ewaluacja modelu**:\n",
    "   - Dokonaliśmy analizy wyników, w tym:\n",
    "     - Obliczenia dokładności i precyzji.\n",
    "     - Wykorzystania macierzy konfuzji oraz metody `predict_proba` do lepszej wizualizacji wyników.\n",
    "   - Sprawdziliśmy, czy model nie wykazuje oznak przeuczenia (overfittingu) lub niedouczenia (underfittingu).\n",
    "\n",
    "### Wnioski:\n",
    "\n",
    "- Model osiągnął wysoką precyzję, a przewidywania były zgodne z rzeczywistymi wynikami.\n",
    "- Brak istotnych różnic między dokładnością na danych treningowych i testowych wskazuje na dobrą jakość generalizacji modelu.\n",
    "- Wizualizacje, takie jak histogramy prawdopodobieństw oraz macierz konfuzji, potwierdzają, że model działa prawidłowo i z dużą pewnością przypisuje próbki do odpowiednich klas.\n",
    "\n",
    "### Podsumowanie:\n",
    "\n",
    "Na podstawie przeprowadzonej analizy można stwierdzić, że model Gaussowskiego Naiwnego Klasyfikatora Bayesowskiego jest godnym zaufania narzędziem do przewidywań statystycznych w przypadku tego zbioru danych. Jego wysoka dokładność i stabilność czynią go skutecznym rozwiązaniem w zadaniach klasyfikacyjnych.\n"
   ]
  }
 ],
 "metadata": {
  "kernelspec": {
   "display_name": "Lab_04-pKe7vWKa",
   "language": "python",
   "name": "python3"
  },
  "language_info": {
   "codemirror_mode": {
    "name": "ipython",
    "version": 3
   },
   "file_extension": ".py",
   "mimetype": "text/x-python",
   "name": "python",
   "nbconvert_exporter": "python",
   "pygments_lexer": "ipython3",
   "version": "3.11.9"
  }
 },
 "nbformat": 4,
 "nbformat_minor": 5
}
