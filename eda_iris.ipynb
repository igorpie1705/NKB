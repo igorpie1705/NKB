{
 "cells": [
  {
   "cell_type": "code",
   "execution_count": null,
   "id": "395b1978-120a-4db1-acb2-bdd5b7447e7c",
   "metadata": {},
   "outputs": [],
   "source": []
  }
 ],
 "metadata": {
  "kernelspec": {
   "display_name": "",
   "name": ""
  },
  "language_info": {
   "name": ""
  }
 },
 "nbformat": 4,
 "nbformat_minor": 5
}
